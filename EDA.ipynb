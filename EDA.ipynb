{
 "cells": [
  {
   "cell_type": "markdown",
   "metadata": {},
   "source": [
    "# Code for SwDS dissertation 2\n",
    "#### This file contains code for EDA (Section 1)\n",
    "\n",
    "#### Yilun Dong (s1994256), August/2020"
   ]
  },
  {
   "cell_type": "code",
   "execution_count": 1,
   "metadata": {},
   "outputs": [],
   "source": [
    "import pandas as pd\n",
    "import numpy as np\n",
    "import matplotlib.pyplot as plt"
   ]
  },
  {
   "cell_type": "code",
   "execution_count": 2,
   "metadata": {},
   "outputs": [
    {
     "name": "stdout",
     "output_type": "stream",
     "text": [
      "Train:         Unnamed: 0      id    qid1    qid2                       question1  \\\n",
      "182601      105796  105796  209841  209842  How can I develop android app?   \n",
      "219751      363416  363416  711434  711435                             NaN   \n",
      "\n",
      "                                                question2  is_duplicate  \n",
      "182601                                                NaN             0  \n",
      "219751  My Chinese name is Haichao Yu. What English na...             0  \n",
      "Test:       Unnamed: 0      id    qid1    qid2                         question1  \\\n",
      "1495      201871  201871  398348  398349  How can I create an Android app?   \n",
      "\n",
      "     question2  is_duplicate  \n",
      "1495       NaN             0  \n"
     ]
    }
   ],
   "source": [
    "# original data frames from the csv file\n",
    "train_original = pd.read_csv('quora_train.csv')\n",
    "test_original = pd.read_csv('quora_test.csv')\n",
    "\n",
    "# check nan\n",
    "nan_rows_train = train_original[train_original.isnull().any(1)]\n",
    "print('Train:', nan_rows_train)\n",
    "\n",
    "nan_rows_test = test_original[test_original.isnull().any(1)]\n",
    "print('Test:', nan_rows_test)"
   ]
  },
  {
   "cell_type": "code",
   "execution_count": 3,
   "metadata": {},
   "outputs": [
    {
     "name": "stdout",
     "output_type": "stream",
     "text": [
      "The length of the training data is 323478\n",
      "The length of the test data is 80870\n"
     ]
    }
   ],
   "source": [
    "# drop nan rows\n",
    "train = train_original.drop([train_original.index[182601] , train_original.index[219751]])\n",
    "test = test_original.drop([test_original.index[1495]])\n",
    "\n",
    "print('The length of the training data is', len(train))\n",
    "print('The length of the test data is', len(test))"
   ]
  },
  {
   "cell_type": "code",
   "execution_count": 4,
   "metadata": {},
   "outputs": [
    {
     "name": "stdout",
     "output_type": "stream",
     "text": [
      "Types of recurrent questions in the training set: 9530\n",
      "Proportion of recurrent questions in the training set: 0.015028867094666092\n",
      "Total number of recurrent questions in the training set: 22373\n",
      "Proportion of total number of recurrent questions in the training set: 0.03458194993168005\n"
     ]
    }
   ],
   "source": [
    "# recurrent questions\n",
    "qids_train = pd.Series(train['qid1'].tolist() + train['qid2'].tolist())\n",
    "qids_count_train = qids_train.value_counts().to_frame()\n",
    "qids_count_train.columns = ['count']\n",
    "num_rec_questions_train = np.sum(qids_count_train['count'] > 1)\n",
    "print('Types of recurrent questions in the training set:', num_rec_questions_train)\n",
    "print('Proportion of recurrent questions in the training set:', num_rec_questions_train/len(qids_count_train))\n",
    "\n",
    "i = 0\n",
    "for number in qids_count_train['count']:\n",
    "    if number > 1:\n",
    "        i += number\n",
    "print('Total number of recurrent questions in the training set:', i)        \n",
    "print('Proportion of total number of recurrent questions in the training set:', (i/len(qids_train)))"
   ]
  },
  {
   "cell_type": "code",
   "execution_count": 5,
   "metadata": {},
   "outputs": [
    {
     "data": {
      "text/html": [
       "<div>\n",
       "<style scoped>\n",
       "    .dataframe tbody tr th:only-of-type {\n",
       "        vertical-align: middle;\n",
       "    }\n",
       "\n",
       "    .dataframe tbody tr th {\n",
       "        vertical-align: top;\n",
       "    }\n",
       "\n",
       "    .dataframe thead th {\n",
       "        text-align: right;\n",
       "    }\n",
       "</style>\n",
       "<table border=\"1\" class=\"dataframe\">\n",
       "  <thead>\n",
       "    <tr style=\"text-align: right;\">\n",
       "      <th></th>\n",
       "      <th></th>\n",
       "      <th>count</th>\n",
       "    </tr>\n",
       "    <tr>\n",
       "      <th>qid1</th>\n",
       "      <th>qid2</th>\n",
       "      <th></th>\n",
       "    </tr>\n",
       "  </thead>\n",
       "  <tbody>\n",
       "    <tr>\n",
       "      <th>1</th>\n",
       "      <th>2</th>\n",
       "      <td>1</td>\n",
       "    </tr>\n",
       "    <tr>\n",
       "      <th>523024</th>\n",
       "      <th>523025</th>\n",
       "      <td>1</td>\n",
       "    </tr>\n",
       "    <tr>\n",
       "      <th>523020</th>\n",
       "      <th>523021</th>\n",
       "      <td>1</td>\n",
       "    </tr>\n",
       "    <tr>\n",
       "      <th>523018</th>\n",
       "      <th>523019</th>\n",
       "      <td>1</td>\n",
       "    </tr>\n",
       "    <tr>\n",
       "      <th>523016</th>\n",
       "      <th>523017</th>\n",
       "      <td>1</td>\n",
       "    </tr>\n",
       "    <tr>\n",
       "      <th>...</th>\n",
       "      <th>...</th>\n",
       "      <td>...</td>\n",
       "    </tr>\n",
       "    <tr>\n",
       "      <th>258814</th>\n",
       "      <th>258815</th>\n",
       "      <td>1</td>\n",
       "    </tr>\n",
       "    <tr>\n",
       "      <th>258834</th>\n",
       "      <th>258835</th>\n",
       "      <td>1</td>\n",
       "    </tr>\n",
       "    <tr>\n",
       "      <th>789800</th>\n",
       "      <th>789801</th>\n",
       "      <td>1</td>\n",
       "    </tr>\n",
       "    <tr>\n",
       "      <th>410323</th>\n",
       "      <th>410324</th>\n",
       "      <td>2</td>\n",
       "    </tr>\n",
       "    <tr>\n",
       "      <th>470424</th>\n",
       "      <th>470425</th>\n",
       "      <td>2</td>\n",
       "    </tr>\n",
       "  </tbody>\n",
       "</table>\n",
       "<p>323476 rows × 1 columns</p>\n",
       "</div>"
      ],
      "text/plain": [
       "               count\n",
       "qid1   qid2         \n",
       "1      2           1\n",
       "523024 523025      1\n",
       "523020 523021      1\n",
       "523018 523019      1\n",
       "523016 523017      1\n",
       "...              ...\n",
       "258814 258815      1\n",
       "258834 258835      1\n",
       "789800 789801      1\n",
       "410323 410324      2\n",
       "470424 470425      2\n",
       "\n",
       "[323476 rows x 1 columns]"
      ]
     },
     "execution_count": 5,
     "metadata": {},
     "output_type": "execute_result"
    }
   ],
   "source": [
    "# identical pairs (by question IDs)\n",
    "pairs_train = train.groupby(['qid1', 'qid2']).size().to_frame()\n",
    "pairs_train.columns = ['count']\n",
    "pairs_train.sort_values(['count'])"
   ]
  },
  {
   "cell_type": "code",
   "execution_count": 6,
   "metadata": {},
   "outputs": [
    {
     "data": {
      "text/html": [
       "<div>\n",
       "<style scoped>\n",
       "    .dataframe tbody tr th:only-of-type {\n",
       "        vertical-align: middle;\n",
       "    }\n",
       "\n",
       "    .dataframe tbody tr th {\n",
       "        vertical-align: top;\n",
       "    }\n",
       "\n",
       "    .dataframe thead th {\n",
       "        text-align: right;\n",
       "    }\n",
       "</style>\n",
       "<table border=\"1\" class=\"dataframe\">\n",
       "  <thead>\n",
       "    <tr style=\"text-align: right;\">\n",
       "      <th></th>\n",
       "      <th>count</th>\n",
       "    </tr>\n",
       "    <tr>\n",
       "      <th>id</th>\n",
       "      <th></th>\n",
       "    </tr>\n",
       "  </thead>\n",
       "  <tbody>\n",
       "    <tr>\n",
       "      <th>0</th>\n",
       "      <td>1</td>\n",
       "    </tr>\n",
       "    <tr>\n",
       "      <th>269466</th>\n",
       "      <td>1</td>\n",
       "    </tr>\n",
       "    <tr>\n",
       "      <th>269465</th>\n",
       "      <td>1</td>\n",
       "    </tr>\n",
       "    <tr>\n",
       "      <th>269464</th>\n",
       "      <td>1</td>\n",
       "    </tr>\n",
       "    <tr>\n",
       "      <th>269463</th>\n",
       "      <td>1</td>\n",
       "    </tr>\n",
       "    <tr>\n",
       "      <th>...</th>\n",
       "      <td>...</td>\n",
       "    </tr>\n",
       "    <tr>\n",
       "      <th>134817</th>\n",
       "      <td>1</td>\n",
       "    </tr>\n",
       "    <tr>\n",
       "      <th>134816</th>\n",
       "      <td>1</td>\n",
       "    </tr>\n",
       "    <tr>\n",
       "      <th>134815</th>\n",
       "      <td>1</td>\n",
       "    </tr>\n",
       "    <tr>\n",
       "      <th>134824</th>\n",
       "      <td>1</td>\n",
       "    </tr>\n",
       "    <tr>\n",
       "      <th>404350</th>\n",
       "      <td>1</td>\n",
       "    </tr>\n",
       "  </tbody>\n",
       "</table>\n",
       "<p>323478 rows × 1 columns</p>\n",
       "</div>"
      ],
      "text/plain": [
       "        count\n",
       "id           \n",
       "0           1\n",
       "269466      1\n",
       "269465      1\n",
       "269464      1\n",
       "269463      1\n",
       "...       ...\n",
       "134817      1\n",
       "134816      1\n",
       "134815      1\n",
       "134824      1\n",
       "404350      1\n",
       "\n",
       "[323478 rows x 1 columns]"
      ]
     },
     "execution_count": 6,
     "metadata": {},
     "output_type": "execute_result"
    }
   ],
   "source": [
    "# identical pairs (by pair IDs)\n",
    "pairs_train_2 = train.groupby(['id']).size().to_frame()\n",
    "pairs_train_2.columns = ['count']\n",
    "pairs_train_2.sort_values(['count'])"
   ]
  },
  {
   "cell_type": "code",
   "execution_count": 7,
   "metadata": {},
   "outputs": [
    {
     "data": {
      "text/html": [
       "<div>\n",
       "<style scoped>\n",
       "    .dataframe tbody tr th:only-of-type {\n",
       "        vertical-align: middle;\n",
       "    }\n",
       "\n",
       "    .dataframe tbody tr th {\n",
       "        vertical-align: top;\n",
       "    }\n",
       "\n",
       "    .dataframe thead th {\n",
       "        text-align: right;\n",
       "    }\n",
       "</style>\n",
       "<table border=\"1\" class=\"dataframe\">\n",
       "  <thead>\n",
       "    <tr style=\"text-align: right;\">\n",
       "      <th></th>\n",
       "      <th>Unnamed: 0</th>\n",
       "      <th>id</th>\n",
       "      <th>qid1</th>\n",
       "      <th>qid2</th>\n",
       "      <th>question1</th>\n",
       "      <th>question2</th>\n",
       "      <th>is_duplicate</th>\n",
       "    </tr>\n",
       "  </thead>\n",
       "  <tbody>\n",
       "    <tr>\n",
       "      <th>86872</th>\n",
       "      <td>208000</td>\n",
       "      <td>208000</td>\n",
       "      <td>410323</td>\n",
       "      <td>410324</td>\n",
       "      <td>Who were Jacobins, and why are they important?</td>\n",
       "      <td>Who were Jacobins, and why are they important/</td>\n",
       "      <td>1</td>\n",
       "    </tr>\n",
       "    <tr>\n",
       "      <th>315771</th>\n",
       "      <td>403565</td>\n",
       "      <td>403565</td>\n",
       "      <td>410323</td>\n",
       "      <td>410324</td>\n",
       "      <td>Which biology areas have the most low-hanging ...</td>\n",
       "      <td>Which astronomy areas have the most low-hangin...</td>\n",
       "      <td>0</td>\n",
       "    </tr>\n",
       "  </tbody>\n",
       "</table>\n",
       "</div>"
      ],
      "text/plain": [
       "        Unnamed: 0      id    qid1    qid2  \\\n",
       "86872       208000  208000  410323  410324   \n",
       "315771      403565  403565  410323  410324   \n",
       "\n",
       "                                                question1  \\\n",
       "86872      Who were Jacobins, and why are they important?   \n",
       "315771  Which biology areas have the most low-hanging ...   \n",
       "\n",
       "                                                question2  is_duplicate  \n",
       "86872      Who were Jacobins, and why are they important/             1  \n",
       "315771  Which astronomy areas have the most low-hangin...             0  "
      ]
     },
     "execution_count": 7,
     "metadata": {},
     "output_type": "execute_result"
    }
   ],
   "source": [
    "# check potential identical pairs of the training set\n",
    "train.loc[train['qid1'] == 410323]"
   ]
  },
  {
   "cell_type": "code",
   "execution_count": 8,
   "metadata": {},
   "outputs": [
    {
     "data": {
      "text/html": [
       "<div>\n",
       "<style scoped>\n",
       "    .dataframe tbody tr th:only-of-type {\n",
       "        vertical-align: middle;\n",
       "    }\n",
       "\n",
       "    .dataframe tbody tr th {\n",
       "        vertical-align: top;\n",
       "    }\n",
       "\n",
       "    .dataframe thead th {\n",
       "        text-align: right;\n",
       "    }\n",
       "</style>\n",
       "<table border=\"1\" class=\"dataframe\">\n",
       "  <thead>\n",
       "    <tr style=\"text-align: right;\">\n",
       "      <th></th>\n",
       "      <th>Unnamed: 0</th>\n",
       "      <th>id</th>\n",
       "      <th>qid1</th>\n",
       "      <th>qid2</th>\n",
       "      <th>question1</th>\n",
       "      <th>question2</th>\n",
       "      <th>is_duplicate</th>\n",
       "    </tr>\n",
       "  </thead>\n",
       "  <tbody>\n",
       "    <tr>\n",
       "      <th>186780</th>\n",
       "      <td>336568</td>\n",
       "      <td>336568</td>\n",
       "      <td>470424</td>\n",
       "      <td>470425</td>\n",
       "      <td>When was 2011 5th Global Shipping Summit?</td>\n",
       "      <td>Where is the 2011 5th Global Shipping Summit?</td>\n",
       "      <td>0</td>\n",
       "    </tr>\n",
       "    <tr>\n",
       "      <th>268491</th>\n",
       "      <td>238815</td>\n",
       "      <td>238815</td>\n",
       "      <td>470424</td>\n",
       "      <td>470425</td>\n",
       "      <td>Which flavour has been considered as the best ...</td>\n",
       "      <td>Which school of economic thought is considered...</td>\n",
       "      <td>0</td>\n",
       "    </tr>\n",
       "  </tbody>\n",
       "</table>\n",
       "</div>"
      ],
      "text/plain": [
       "        Unnamed: 0      id    qid1    qid2  \\\n",
       "186780      336568  336568  470424  470425   \n",
       "268491      238815  238815  470424  470425   \n",
       "\n",
       "                                                question1  \\\n",
       "186780          When was 2011 5th Global Shipping Summit?   \n",
       "268491  Which flavour has been considered as the best ...   \n",
       "\n",
       "                                                question2  is_duplicate  \n",
       "186780      Where is the 2011 5th Global Shipping Summit?             0  \n",
       "268491  Which school of economic thought is considered...             0  "
      ]
     },
     "execution_count": 8,
     "metadata": {},
     "output_type": "execute_result"
    }
   ],
   "source": [
    "# check potential identical pairs of the training set\n",
    "train.loc[train['qid1'] == 470424]"
   ]
  },
  {
   "cell_type": "code",
   "execution_count": 9,
   "metadata": {},
   "outputs": [
    {
     "name": "stdout",
     "output_type": "stream",
     "text": [
      "Number of positives and negatives in the training set:\n",
      " 0    203851\n",
      "1    119627\n",
      "Name: is_duplicate, dtype: int64\n",
      "Proportion of positives in the training set: 0.3698149487754963 \n",
      "\n",
      "Proportion of negatives in the training set: 0.6301850512245036 \n",
      "\n"
     ]
    }
   ],
   "source": [
    "# number of positives and negatives in the training set\n",
    "duplication_count_train = train['is_duplicate'].value_counts()\n",
    "duplication_count_test = test['is_duplicate'].value_counts()\n",
    "\n",
    "print('Number of positives and negatives in the training set:\\n', duplication_count_train)\n",
    "print('Proportion of positives in the training set:', \n",
    "      duplication_count_train[1]/(duplication_count_train[0] + duplication_count_train[1]), \n",
    "      '\\n')\n",
    "print('Proportion of negatives in the training set:', \n",
    "      duplication_count_train[0]/(duplication_count_train[0] + duplication_count_train[1]), \n",
    "      '\\n')"
   ]
  },
  {
   "cell_type": "code",
   "execution_count": 10,
   "metadata": {},
   "outputs": [
    {
     "name": "stdout",
     "output_type": "stream",
     "text": [
      "The longest question in the training set has 237 words.\n",
      "The shortest question in the training set has 1 words.\n"
     ]
    },
    {
     "data": {
      "text/plain": [
       "(array([0.  , 0.02, 0.04, 0.06, 0.08, 0.1 , 0.12, 0.14]),\n",
       " <a list of 8 Text yticklabel objects>)"
      ]
     },
     "execution_count": 10,
     "metadata": {},
     "output_type": "execute_result"
    },
    {
     "data": {
      "image/png": "[encoded data removed]",
      "text/plain": [
       "<Figure size 1080x720 with 1 Axes>"
      ]
     },
     "metadata": {
      "needs_background": "light"
     },
     "output_type": "display_data"
    }
   ],
   "source": [
    "# question length\n",
    "questions_train = pd.Series(train['question1'].tolist() + train['question2'].tolist()).astype(str)\n",
    "\n",
    "length_train = questions_train.apply(lambda x: len(x.split(' ')))\n",
    "\n",
    "print('The longest question in the training set has', length_train.max(), 'words.')\n",
    "print('The shortest question in the training set has', length_train.min(), 'words.')\n",
    "\n",
    "plt.figure(figsize=(15, 10))\n",
    "plt.hist(length_train, bins = 50, range = [0, 50], \n",
    "         density = True, color = 'c', label = 'train')\n",
    "plt.xlabel('Length', fontsize = 30)\n",
    "plt.ylabel('Density', fontsize = 30)\n",
    "plt.legend(fontsize = 20)\n",
    "plt.xticks(fontsize = 30)\n",
    "plt.yticks(fontsize = 30)"
   ]
  },
  {
   "cell_type": "code",
   "execution_count": 11,
   "metadata": {},
   "outputs": [
    {
     "name": "stdout",
     "output_type": "stream",
     "text": [
      "Proportion of questions with numbers in the training set: 0.1180884016841949\n"
     ]
    }
   ],
   "source": [
    "# occurences of numbers in the questions\n",
    "questions_with_numbers = np.mean(questions_train.apply(lambda x: max([y.isdigit() for y in x])))\n",
    "print('Proportion of questions with numbers in the training set:', questions_with_numbers)"
   ]
  }
 ],
 "metadata": {
  "kernelspec": {
   "display_name": "Python 3",
   "language": "python",
   "name": "python3"
  },
  "language_info": {
   "codemirror_mode": {
    "name": "ipython",
    "version": 3
   },
   "file_extension": ".py",
   "mimetype": "text/x-python",
   "name": "python",
   "nbconvert_exporter": "python",
   "pygments_lexer": "ipython3",
   "version": "3.7.0"
  }
 },
 "nbformat": 4,
 "nbformat_minor": 4
}
